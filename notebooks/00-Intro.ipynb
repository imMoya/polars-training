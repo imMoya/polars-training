{
 "cells": [
  {
   "cell_type": "markdown",
   "id": "6e889b9c-e4cf-4027-b951-3106bd82dd4c",
   "metadata": {},
   "source": [
    "### Quickstart"
   ]
  },
  {
   "cell_type": "code",
   "execution_count": 1,
   "id": "7b178867-3433-46a7-8079-442eac5e6274",
   "metadata": {},
   "outputs": [],
   "source": [
    "import polars as pl\n",
    "import matplotlib.pyplot as plt"
   ]
  },
  {
   "cell_type": "code",
   "execution_count": 2,
   "id": "aded8411-e975-4598-9556-313493160d27",
   "metadata": {},
   "outputs": [],
   "source": [
    "df = pl.read_csv(\"../datasets/2019.csv\")"
   ]
  },
  {
   "cell_type": "code",
   "execution_count": 3,
   "id": "c74488ba-df78-4c29-846e-7ba866cf854a",
   "metadata": {},
   "outputs": [
    {
     "data": {
      "text/html": [
       "<div><style>\n",
       ".dataframe > thead > tr,\n",
       ".dataframe > tbody > tr {\n",
       "  text-align: right;\n",
       "  white-space: pre-wrap;\n",
       "}\n",
       "</style>\n",
       "<small>shape: (5, 33)</small><table border=\"1\" class=\"dataframe\"><thead><tr><th>FL_DATE</th><th>AIRLINE_CODE</th><th>DOT_CODE</th><th>FL_NUMBER</th><th>ORIGIN</th><th>ORIGIN_CITY</th><th>DEST</th><th>DEST_CITY</th><th>CRS_DEP_TIME</th><th>DEP_TIME</th><th>DEP_DELAY</th><th>TAXI_OUT</th><th>WHEELS_OFF</th><th>WHEELS_ON</th><th>TAXI_IN</th><th>CRS_ARR_TIME</th><th>ARR_TIME</th><th>ARR_DELAY</th><th>CANCELLED</th><th>CANCELLATION_CODE</th><th>DIVERTED</th><th>CRS_ELAPSED_TIME</th><th>ELAPSED_TIME</th><th>AIR_TIME</th><th>DISTANCE</th><th>DELAY_DUE_CARRIER</th><th>DELAY_DUE_WEATHER</th><th>DELAY_DUE_NAS</th><th>DELAY_DUE_SECURITY</th><th>DELAY_DUE_LATE_AIRCRAFT</th><th>FL_YEAR</th><th>FL_MONTH</th><th>FL_DAY</th></tr><tr><td>str</td><td>str</td><td>i64</td><td>i64</td><td>str</td><td>str</td><td>str</td><td>str</td><td>i64</td><td>f64</td><td>f64</td><td>f64</td><td>f64</td><td>f64</td><td>f64</td><td>i64</td><td>f64</td><td>f64</td><td>f64</td><td>str</td><td>f64</td><td>f64</td><td>f64</td><td>f64</td><td>f64</td><td>f64</td><td>f64</td><td>f64</td><td>f64</td><td>f64</td><td>i64</td><td>i64</td><td>i64</td></tr></thead><tbody><tr><td>&quot;2019-12-01&quot;</td><td>&quot;DL&quot;</td><td>19790</td><td>833</td><td>&quot;DTW&quot;</td><td>&quot;Detroit, MI&quot;</td><td>&quot;SAN&quot;</td><td>&quot;San Diego, CA&quot;</td><td>820</td><td>828.0</td><td>8.0</td><td>25.0</td><td>853.0</td><td>1017.0</td><td>3.0</td><td>1026</td><td>1020.0</td><td>-6.0</td><td>0.0</td><td>&quot;Z&quot;</td><td>0.0</td><td>306.0</td><td>292.0</td><td>264.0</td><td>1956.0</td><td>null</td><td>null</td><td>null</td><td>null</td><td>null</td><td>2019</td><td>12</td><td>1</td></tr><tr><td>&quot;2019-12-01&quot;</td><td>&quot;DL&quot;</td><td>19790</td><td>833</td><td>&quot;SAN&quot;</td><td>&quot;San Diego, CA&quot;</td><td>&quot;DTW&quot;</td><td>&quot;Detroit, MI&quot;</td><td>1124</td><td>1122.0</td><td>-2.0</td><td>17.0</td><td>1139.0</td><td>1822.0</td><td>12.0</td><td>1847</td><td>1834.0</td><td>-13.0</td><td>0.0</td><td>&quot;Z&quot;</td><td>0.0</td><td>263.0</td><td>252.0</td><td>223.0</td><td>1956.0</td><td>null</td><td>null</td><td>null</td><td>null</td><td>null</td><td>2019</td><td>12</td><td>1</td></tr><tr><td>&quot;2019-12-01&quot;</td><td>&quot;DL&quot;</td><td>19790</td><td>834</td><td>&quot;LGA&quot;</td><td>&quot;New York, NY&quot;</td><td>&quot;DEN&quot;</td><td>&quot;Denver, CO&quot;</td><td>1810</td><td>1807.0</td><td>-3.0</td><td>25.0</td><td>1832.0</td><td>1956.0</td><td>8.0</td><td>2051</td><td>2004.0</td><td>-47.0</td><td>0.0</td><td>&quot;Z&quot;</td><td>0.0</td><td>281.0</td><td>237.0</td><td>204.0</td><td>1620.0</td><td>null</td><td>null</td><td>null</td><td>null</td><td>null</td><td>2019</td><td>12</td><td>1</td></tr><tr><td>&quot;2019-12-01&quot;</td><td>&quot;DL&quot;</td><td>19790</td><td>835</td><td>&quot;LAX&quot;</td><td>&quot;Los Angeles, C…</td><td>&quot;MSY&quot;</td><td>&quot;New Orleans, L…</td><td>901</td><td>919.0</td><td>18.0</td><td>14.0</td><td>933.0</td><td>1428.0</td><td>3.0</td><td>1438</td><td>1431.0</td><td>-7.0</td><td>0.0</td><td>&quot;Z&quot;</td><td>0.0</td><td>217.0</td><td>192.0</td><td>175.0</td><td>1670.0</td><td>null</td><td>null</td><td>null</td><td>null</td><td>null</td><td>2019</td><td>12</td><td>1</td></tr><tr><td>&quot;2019-12-01&quot;</td><td>&quot;DL&quot;</td><td>19790</td><td>836</td><td>&quot;HNL&quot;</td><td>&quot;Honolulu, HI&quot;</td><td>&quot;ATL&quot;</td><td>&quot;Atlanta, GA&quot;</td><td>1700</td><td>1654.0</td><td>-6.0</td><td>18.0</td><td>1712.0</td><td>554.0</td><td>8.0</td><td>634</td><td>602.0</td><td>-32.0</td><td>0.0</td><td>&quot;Z&quot;</td><td>0.0</td><td>514.0</td><td>488.0</td><td>462.0</td><td>4502.0</td><td>null</td><td>null</td><td>null</td><td>null</td><td>null</td><td>2019</td><td>12</td><td>1</td></tr></tbody></table></div>"
      ],
      "text/plain": [
       "shape: (5, 33)\n",
       "┌────────────┬──────────────┬──────────┬───────────┬───┬─────────────┬─────────┬──────────┬────────┐\n",
       "│ FL_DATE    ┆ AIRLINE_CODE ┆ DOT_CODE ┆ FL_NUMBER ┆ … ┆ DELAY_DUE_L ┆ FL_YEAR ┆ FL_MONTH ┆ FL_DAY │\n",
       "│ ---        ┆ ---          ┆ ---      ┆ ---       ┆   ┆ ATE_AIRCRAF ┆ ---     ┆ ---      ┆ ---    │\n",
       "│ str        ┆ str          ┆ i64      ┆ i64       ┆   ┆ T           ┆ i64     ┆ i64      ┆ i64    │\n",
       "│            ┆              ┆          ┆           ┆   ┆ ---         ┆         ┆          ┆        │\n",
       "│            ┆              ┆          ┆           ┆   ┆ f64         ┆         ┆          ┆        │\n",
       "╞════════════╪══════════════╪══════════╪═══════════╪═══╪═════════════╪═════════╪══════════╪════════╡\n",
       "│ 2019-12-01 ┆ DL           ┆ 19790    ┆ 833       ┆ … ┆ null        ┆ 2019    ┆ 12       ┆ 1      │\n",
       "│ 2019-12-01 ┆ DL           ┆ 19790    ┆ 833       ┆ … ┆ null        ┆ 2019    ┆ 12       ┆ 1      │\n",
       "│ 2019-12-01 ┆ DL           ┆ 19790    ┆ 834       ┆ … ┆ null        ┆ 2019    ┆ 12       ┆ 1      │\n",
       "│ 2019-12-01 ┆ DL           ┆ 19790    ┆ 835       ┆ … ┆ null        ┆ 2019    ┆ 12       ┆ 1      │\n",
       "│ 2019-12-01 ┆ DL           ┆ 19790    ┆ 836       ┆ … ┆ null        ┆ 2019    ┆ 12       ┆ 1      │\n",
       "└────────────┴──────────────┴──────────┴───────────┴───┴─────────────┴─────────┴──────────┴────────┘"
      ]
     },
     "execution_count": 3,
     "metadata": {},
     "output_type": "execute_result"
    }
   ],
   "source": [
    "df.head(5)"
   ]
  },
  {
   "cell_type": "code",
   "execution_count": 4,
   "id": "70ff212f-4ca7-48a5-8980-84a885a5dd65",
   "metadata": {},
   "outputs": [],
   "source": [
    "df = pl.read_csv(\"../datasets/2019.csv\", try_parse_dates=True)"
   ]
  },
  {
   "cell_type": "code",
   "execution_count": 5,
   "id": "b07c94e6-e5f6-40ec-8951-765216b6084c",
   "metadata": {},
   "outputs": [
    {
     "name": "stdout",
     "output_type": "stream",
     "text": [
      "Rows: 7422037\n",
      "Columns: 33\n",
      "$ FL_DATE                 <date> 2019-12-01, 2019-12-01, 2019-12-01, 2019-12-01, 2019-12-01, 2019-12-01, 2019-12-01, 2019-12-01, 2019-12-01, 2019-12-01\n",
      "$ AIRLINE_CODE             <str> 'DL', 'DL', 'DL', 'DL', 'DL', 'DL', 'DL', 'DL', 'DL', 'DL'\n",
      "$ DOT_CODE                 <i64> 19790, 19790, 19790, 19790, 19790, 19790, 19790, 19790, 19790, 19790\n",
      "$ FL_NUMBER                <i64> 833, 833, 834, 835, 836, 837, 838, 839, 840, 841\n",
      "$ ORIGIN                   <str> 'DTW', 'SAN', 'LGA', 'LAX', 'HNL', 'ATL', 'ATL', 'DCA', 'LGA', 'DTW'\n",
      "$ ORIGIN_CITY              <str> 'Detroit, MI', 'San Diego, CA', 'New York, NY', 'Los Angeles, CA', 'Honolulu, HI', 'Atlanta, GA', 'Atlanta, GA', 'Washington, DC', 'New York, NY', 'Detroit, MI'\n",
      "$ DEST                     <str> 'SAN', 'DTW', 'DEN', 'MSY', 'ATL', 'HNL', 'EWR', 'ATL', 'PBI', 'MSP'\n",
      "$ DEST_CITY                <str> 'San Diego, CA', 'Detroit, MI', 'Denver, CO', 'New Orleans, LA', 'Atlanta, GA', 'Honolulu, HI', 'Newark, NJ', 'Atlanta, GA', 'West Palm Beach/Palm Beach, FL', 'Minneapolis, MN'\n",
      "$ CRS_DEP_TIME             <i64> 820, 1124, 1810, 901, 1700, 1100, 2330, 600, 1959, 1222\n",
      "$ DEP_TIME                 <f64> 828.0, 1122.0, 1807.0, 919.0, 1654.0, 1059.0, 2344.0, 558.0, 2207.0, 1239.0\n",
      "$ DEP_DELAY                <f64> 8.0, -2.0, -3.0, 18.0, -6.0, -1.0, 14.0, -2.0, 128.0, 17.0\n",
      "$ TAXI_OUT                 <f64> 25.0, 17.0, 25.0, 14.0, 18.0, 13.0, 42.0, 11.0, 23.0, 19.0\n",
      "$ WHEELS_OFF               <f64> 853.0, 1139.0, 1832.0, 933.0, 1712.0, 1112.0, 26.0, 609.0, 2230.0, 1258.0\n",
      "$ WHEELS_ON                <f64> 1017.0, 1822.0, 1956.0, 1428.0, 554.0, 1528.0, 222.0, 739.0, 104.0, 1311.0\n",
      "$ TAXI_IN                  <f64> 3.0, 12.0, 8.0, 3.0, 8.0, 2.0, 7.0, 5.0, 5.0, 12.0\n",
      "$ CRS_ARR_TIME             <i64> 1026, 1847, 2051, 1438, 634, 1610, 142, 757, 2304, 1322\n",
      "$ ARR_TIME                 <f64> 1020.0, 1834.0, 2004.0, 1431.0, 602.0, 1530.0, 229.0, 744.0, 109.0, 1323.0\n",
      "$ ARR_DELAY                <f64> -6.0, -13.0, -47.0, -7.0, -32.0, -40.0, 47.0, -13.0, 125.0, 1.0\n",
      "$ CANCELLED                <f64> 0.0, 0.0, 0.0, 0.0, 0.0, 0.0, 0.0, 0.0, 0.0, 0.0\n",
      "$ CANCELLATION_CODE        <str> 'Z', 'Z', 'Z', 'Z', 'Z', 'Z', 'Z', 'Z', 'Z', 'Z'\n",
      "$ DIVERTED                 <f64> 0.0, 0.0, 0.0, 0.0, 0.0, 0.0, 0.0, 0.0, 0.0, 0.0\n",
      "$ CRS_ELAPSED_TIME         <f64> 306.0, 263.0, 281.0, 217.0, 514.0, 610.0, 132.0, 117.0, 185.0, 120.0\n",
      "$ ELAPSED_TIME             <f64> 292.0, 252.0, 237.0, 192.0, 488.0, 571.0, 165.0, 106.0, 182.0, 104.0\n",
      "$ AIR_TIME                 <f64> 264.0, 223.0, 204.0, 175.0, 462.0, 556.0, 116.0, 90.0, 154.0, 73.0\n",
      "$ DISTANCE                 <f64> 1956.0, 1956.0, 1620.0, 1670.0, 4502.0, 4502.0, 746.0, 547.0, 1035.0, 528.0\n",
      "$ DELAY_DUE_CARRIER        <f64> None, None, None, None, None, None, 14.0, None, 84.0, None\n",
      "$ DELAY_DUE_WEATHER        <f64> None, None, None, None, None, None, 0.0, None, 0.0, None\n",
      "$ DELAY_DUE_NAS            <f64> None, None, None, None, None, None, 33.0, None, 0.0, None\n",
      "$ DELAY_DUE_SECURITY       <f64> None, None, None, None, None, None, 0.0, None, 0.0, None\n",
      "$ DELAY_DUE_LATE_AIRCRAFT  <f64> None, None, None, None, None, None, 0.0, None, 41.0, None\n",
      "$ FL_YEAR                  <i64> 2019, 2019, 2019, 2019, 2019, 2019, 2019, 2019, 2019, 2019\n",
      "$ FL_MONTH                 <i64> 12, 12, 12, 12, 12, 12, 12, 12, 12, 12\n",
      "$ FL_DAY                   <i64> 1, 1, 1, 1, 1, 1, 1, 1, 1, 1\n",
      "\n",
      "None\n"
     ]
    }
   ],
   "source": [
    "print(df.glimpse())"
   ]
  },
  {
   "cell_type": "code",
   "execution_count": 6,
   "id": "a8a7d2df-20cc-4e47-9f0a-b8574f94eb81",
   "metadata": {},
   "outputs": [
    {
     "data": {
      "text/html": [
       "<div><style>\n",
       ".dataframe > thead > tr,\n",
       ".dataframe > tbody > tr {\n",
       "  text-align: right;\n",
       "  white-space: pre-wrap;\n",
       "}\n",
       "</style>\n",
       "<small>shape: (9, 34)</small><table border=\"1\" class=\"dataframe\"><thead><tr><th>describe</th><th>FL_DATE</th><th>AIRLINE_CODE</th><th>DOT_CODE</th><th>FL_NUMBER</th><th>ORIGIN</th><th>ORIGIN_CITY</th><th>DEST</th><th>DEST_CITY</th><th>CRS_DEP_TIME</th><th>DEP_TIME</th><th>DEP_DELAY</th><th>TAXI_OUT</th><th>WHEELS_OFF</th><th>WHEELS_ON</th><th>TAXI_IN</th><th>CRS_ARR_TIME</th><th>ARR_TIME</th><th>ARR_DELAY</th><th>CANCELLED</th><th>CANCELLATION_CODE</th><th>DIVERTED</th><th>CRS_ELAPSED_TIME</th><th>ELAPSED_TIME</th><th>AIR_TIME</th><th>DISTANCE</th><th>DELAY_DUE_CARRIER</th><th>DELAY_DUE_WEATHER</th><th>DELAY_DUE_NAS</th><th>DELAY_DUE_SECURITY</th><th>DELAY_DUE_LATE_AIRCRAFT</th><th>FL_YEAR</th><th>FL_MONTH</th><th>FL_DAY</th></tr><tr><td>str</td><td>str</td><td>str</td><td>f64</td><td>f64</td><td>str</td><td>str</td><td>str</td><td>str</td><td>f64</td><td>f64</td><td>f64</td><td>f64</td><td>f64</td><td>f64</td><td>f64</td><td>f64</td><td>f64</td><td>f64</td><td>f64</td><td>str</td><td>f64</td><td>f64</td><td>f64</td><td>f64</td><td>f64</td><td>f64</td><td>f64</td><td>f64</td><td>f64</td><td>f64</td><td>f64</td><td>f64</td><td>f64</td></tr></thead><tbody><tr><td>&quot;count&quot;</td><td>&quot;7422037&quot;</td><td>&quot;7422037&quot;</td><td>7.422037e6</td><td>7.422037e6</td><td>&quot;7422037&quot;</td><td>&quot;7422037&quot;</td><td>&quot;7422037&quot;</td><td>&quot;7422037&quot;</td><td>7.422037e6</td><td>7.422037e6</td><td>7.422037e6</td><td>7.422037e6</td><td>7.422037e6</td><td>7.422037e6</td><td>7.422037e6</td><td>7.422037e6</td><td>7.422037e6</td><td>7.422037e6</td><td>7.422037e6</td><td>&quot;7422037&quot;</td><td>7.422037e6</td><td>7.422037e6</td><td>7.422037e6</td><td>7.422037e6</td><td>7.422037e6</td><td>7.422037e6</td><td>7.422037e6</td><td>7.422037e6</td><td>7.422037e6</td><td>7.422037e6</td><td>7.422037e6</td><td>7.422037e6</td><td>7.422037e6</td></tr><tr><td>&quot;null_count&quot;</td><td>&quot;0&quot;</td><td>&quot;0&quot;</td><td>0.0</td><td>0.0</td><td>&quot;0&quot;</td><td>&quot;0&quot;</td><td>&quot;0&quot;</td><td>&quot;0&quot;</td><td>0.0</td><td>130086.0</td><td>130110.0</td><td>133977.0</td><td>133977.0</td><td>137647.0</td><td>137647.0</td><td>0.0</td><td>137646.0</td><td>153805.0</td><td>0.0</td><td>&quot;0&quot;</td><td>0.0</td><td>135.0</td><td>153805.0</td><td>153805.0</td><td>0.0</td><td>6.032784e6</td><td>6.032784e6</td><td>6.032784e6</td><td>6.032784e6</td><td>6.032784e6</td><td>0.0</td><td>0.0</td><td>0.0</td></tr><tr><td>&quot;mean&quot;</td><td>null</td><td>null</td><td>19986.76164</td><td>2557.195941</td><td>null</td><td>null</td><td>null</td><td>null</td><td>1330.258507</td><td>1334.606311</td><td>10.923267</td><td>17.389349</td><td>1358.26439</td><td>1459.031755</td><td>7.740776</td><td>1485.789553</td><td>1462.955325</td><td>5.414849</td><td>0.018179</td><td>null</td><td>0.002544</td><td>141.902161</td><td>136.690302</td><td>111.5734</td><td>800.544232</td><td>21.128592</td><td>3.802404</td><td>16.587946</td><td>0.096083</td><td>27.407479</td><td>2019.0</td><td>6.57875</td><td>15.731959</td></tr><tr><td>&quot;std&quot;</td><td>null</td><td>null</td><td>374.751089</td><td>1799.413408</td><td>null</td><td>null</td><td>null</td><td>null</td><td>492.985466</td><td>507.199818</td><td>48.95964</td><td>10.003982</td><td>508.810907</td><td>537.841369</td><td>6.19434</td><td>521.465892</td><td>542.454249</td><td>51.066656</td><td>0.133598</td><td>null</td><td>0.050372</td><td>72.346849</td><td>72.612742</td><td>70.561226</td><td>592.511847</td><td>66.104645</td><td>32.362973</td><td>39.664395</td><td>3.358346</td><td>53.456198</td><td>0.0</td><td>3.402585</td><td>8.762183</td></tr><tr><td>&quot;min&quot;</td><td>&quot;2019-01-01&quot;</td><td>&quot;9E&quot;</td><td>19393.0</td><td>1.0</td><td>&quot;ABE&quot;</td><td>&quot;Aberdeen, SD&quot;</td><td>&quot;ABE&quot;</td><td>&quot;Aberdeen, SD&quot;</td><td>1.0</td><td>1.0</td><td>-82.0</td><td>1.0</td><td>1.0</td><td>1.0</td><td>1.0</td><td>1.0</td><td>1.0</td><td>-99.0</td><td>0.0</td><td>&quot;A&quot;</td><td>0.0</td><td>1.0</td><td>15.0</td><td>4.0</td><td>31.0</td><td>0.0</td><td>0.0</td><td>0.0</td><td>0.0</td><td>0.0</td><td>2019.0</td><td>1.0</td><td>1.0</td></tr><tr><td>&quot;25%&quot;</td><td>null</td><td>null</td><td>19790.0</td><td>1025.0</td><td>null</td><td>null</td><td>null</td><td>null</td><td>913.0</td><td>914.0</td><td>-5.0</td><td>11.0</td><td>930.0</td><td>1042.0</td><td>4.0</td><td>1100.0</td><td>1046.0</td><td>-15.0</td><td>0.0</td><td>null</td><td>0.0</td><td>90.0</td><td>84.0</td><td>60.0</td><td>369.0</td><td>0.0</td><td>0.0</td><td>0.0</td><td>0.0</td><td>0.0</td><td>2019.0</td><td>4.0</td><td>8.0</td></tr><tr><td>&quot;50%&quot;</td><td>null</td><td>null</td><td>19977.0</td><td>2158.0</td><td>null</td><td>null</td><td>null</td><td>null</td><td>1321.0</td><td>1327.0</td><td>-2.0</td><td>15.0</td><td>1340.0</td><td>1500.0</td><td>6.0</td><td>1515.0</td><td>1504.0</td><td>-6.0</td><td>0.0</td><td>null</td><td>0.0</td><td>124.0</td><td>119.0</td><td>93.0</td><td>640.0</td><td>0.0</td><td>0.0</td><td>2.0</td><td>0.0</td><td>3.0</td><td>2019.0</td><td>7.0</td><td>16.0</td></tr><tr><td>&quot;75%&quot;</td><td>null</td><td>null</td><td>20368.0</td><td>3917.0</td><td>null</td><td>null</td><td>null</td><td>null</td><td>1736.0</td><td>1746.0</td><td>7.0</td><td>20.0</td><td>1801.0</td><td>1912.0</td><td>9.0</td><td>1921.0</td><td>1917.0</td><td>7.0</td><td>0.0</td><td>null</td><td>0.0</td><td>171.0</td><td>167.0</td><td>141.0</td><td>1034.0</td><td>18.0</td><td>0.0</td><td>20.0</td><td>0.0</td><td>33.0</td><td>2019.0</td><td>10.0</td><td>23.0</td></tr><tr><td>&quot;max&quot;</td><td>&quot;2019-12-31&quot;</td><td>&quot;YX&quot;</td><td>20452.0</td><td>7933.0</td><td>&quot;YUM&quot;</td><td>&quot;Yuma, AZ&quot;</td><td>&quot;YUM&quot;</td><td>&quot;Yuma, AZ&quot;</td><td>2359.0</td><td>2400.0</td><td>2710.0</td><td>227.0</td><td>2400.0</td><td>2400.0</td><td>316.0</td><td>2400.0</td><td>2400.0</td><td>2695.0</td><td>1.0</td><td>&quot;Z&quot;</td><td>1.0</td><td>948.0</td><td>1604.0</td><td>1557.0</td><td>5095.0</td><td>2695.0</td><td>1847.0</td><td>1741.0</td><td>1078.0</td><td>2206.0</td><td>2019.0</td><td>12.0</td><td>31.0</td></tr></tbody></table></div>"
      ],
      "text/plain": [
       "shape: (9, 34)\n",
       "┌───────────┬───────────┬───────────┬───────────┬───┬───────────┬───────────┬───────────┬──────────┐\n",
       "│ describe  ┆ FL_DATE   ┆ AIRLINE_C ┆ DOT_CODE  ┆ … ┆ DELAY_DUE ┆ FL_YEAR   ┆ FL_MONTH  ┆ FL_DAY   │\n",
       "│ ---       ┆ ---       ┆ ODE       ┆ ---       ┆   ┆ _LATE_AIR ┆ ---       ┆ ---       ┆ ---      │\n",
       "│ str       ┆ str       ┆ ---       ┆ f64       ┆   ┆ CRAFT     ┆ f64       ┆ f64       ┆ f64      │\n",
       "│           ┆           ┆ str       ┆           ┆   ┆ ---       ┆           ┆           ┆          │\n",
       "│           ┆           ┆           ┆           ┆   ┆ f64       ┆           ┆           ┆          │\n",
       "╞═══════════╪═══════════╪═══════════╪═══════════╪═══╪═══════════╪═══════════╪═══════════╪══════════╡\n",
       "│ count     ┆ 7422037   ┆ 7422037   ┆ 7.422037e ┆ … ┆ 7.422037e ┆ 7.422037e ┆ 7.422037e ┆ 7.422037 │\n",
       "│           ┆           ┆           ┆ 6         ┆   ┆ 6         ┆ 6         ┆ 6         ┆ e6       │\n",
       "│ null_coun ┆ 0         ┆ 0         ┆ 0.0       ┆ … ┆ 6.032784e ┆ 0.0       ┆ 0.0       ┆ 0.0      │\n",
       "│ t         ┆           ┆           ┆           ┆   ┆ 6         ┆           ┆           ┆          │\n",
       "│ mean      ┆ null      ┆ null      ┆ 19986.761 ┆ … ┆ 27.407479 ┆ 2019.0    ┆ 6.57875   ┆ 15.73195 │\n",
       "│           ┆           ┆           ┆ 64        ┆   ┆           ┆           ┆           ┆ 9        │\n",
       "│ std       ┆ null      ┆ null      ┆ 374.75108 ┆ … ┆ 53.456198 ┆ 0.0       ┆ 3.402585  ┆ 8.762183 │\n",
       "│           ┆           ┆           ┆ 9         ┆   ┆           ┆           ┆           ┆          │\n",
       "│ min       ┆ 2019-01-0 ┆ 9E        ┆ 19393.0   ┆ … ┆ 0.0       ┆ 2019.0    ┆ 1.0       ┆ 1.0      │\n",
       "│           ┆ 1         ┆           ┆           ┆   ┆           ┆           ┆           ┆          │\n",
       "│ 25%       ┆ null      ┆ null      ┆ 19790.0   ┆ … ┆ 0.0       ┆ 2019.0    ┆ 4.0       ┆ 8.0      │\n",
       "│ 50%       ┆ null      ┆ null      ┆ 19977.0   ┆ … ┆ 3.0       ┆ 2019.0    ┆ 7.0       ┆ 16.0     │\n",
       "│ 75%       ┆ null      ┆ null      ┆ 20368.0   ┆ … ┆ 33.0      ┆ 2019.0    ┆ 10.0      ┆ 23.0     │\n",
       "│ max       ┆ 2019-12-3 ┆ YX        ┆ 20452.0   ┆ … ┆ 2206.0    ┆ 2019.0    ┆ 12.0      ┆ 31.0     │\n",
       "│           ┆ 1         ┆           ┆           ┆   ┆           ┆           ┆           ┆          │\n",
       "└───────────┴───────────┴───────────┴───────────┴───┴───────────┴───────────┴───────────┴──────────┘"
      ]
     },
     "execution_count": 6,
     "metadata": {},
     "output_type": "execute_result"
    }
   ],
   "source": [
    "df.describe()"
   ]
  },
  {
   "cell_type": "code",
   "execution_count": 7,
   "id": "b6b99d29-7217-4501-9636-3082e61cc806",
   "metadata": {},
   "outputs": [
    {
     "data": {
      "text/html": [
       "<div><style>\n",
       ".dataframe > thead > tr,\n",
       ".dataframe > tbody > tr {\n",
       "  text-align: right;\n",
       "  white-space: pre-wrap;\n",
       "}\n",
       "</style>\n",
       "<small>shape: (5, 33)</small><table border=\"1\" class=\"dataframe\"><thead><tr><th>FL_DATE</th><th>AIRLINE_CODE</th><th>DOT_CODE</th><th>FL_NUMBER</th><th>ORIGIN</th><th>ORIGIN_CITY</th><th>DEST</th><th>DEST_CITY</th><th>CRS_DEP_TIME</th><th>DEP_TIME</th><th>DEP_DELAY</th><th>TAXI_OUT</th><th>WHEELS_OFF</th><th>WHEELS_ON</th><th>TAXI_IN</th><th>CRS_ARR_TIME</th><th>ARR_TIME</th><th>ARR_DELAY</th><th>CANCELLED</th><th>CANCELLATION_CODE</th><th>DIVERTED</th><th>CRS_ELAPSED_TIME</th><th>ELAPSED_TIME</th><th>AIR_TIME</th><th>DISTANCE</th><th>DELAY_DUE_CARRIER</th><th>DELAY_DUE_WEATHER</th><th>DELAY_DUE_NAS</th><th>DELAY_DUE_SECURITY</th><th>DELAY_DUE_LATE_AIRCRAFT</th><th>FL_YEAR</th><th>FL_MONTH</th><th>FL_DAY</th></tr><tr><td>date</td><td>str</td><td>i64</td><td>i64</td><td>str</td><td>str</td><td>str</td><td>str</td><td>i64</td><td>f64</td><td>f64</td><td>f64</td><td>f64</td><td>f64</td><td>f64</td><td>i64</td><td>f64</td><td>f64</td><td>f64</td><td>str</td><td>f64</td><td>f64</td><td>f64</td><td>f64</td><td>f64</td><td>f64</td><td>f64</td><td>f64</td><td>f64</td><td>f64</td><td>i64</td><td>i64</td><td>i64</td></tr></thead><tbody><tr><td>2019-12-01</td><td>&quot;DL&quot;</td><td>19790</td><td>833</td><td>&quot;DTW&quot;</td><td>&quot;Detroit, MI&quot;</td><td>&quot;SAN&quot;</td><td>&quot;San Diego, CA&quot;</td><td>820</td><td>828.0</td><td>8.0</td><td>25.0</td><td>853.0</td><td>1017.0</td><td>3.0</td><td>1026</td><td>1020.0</td><td>-6.0</td><td>0.0</td><td>&quot;Z&quot;</td><td>0.0</td><td>306.0</td><td>292.0</td><td>264.0</td><td>1956.0</td><td>null</td><td>null</td><td>null</td><td>null</td><td>null</td><td>2019</td><td>12</td><td>1</td></tr><tr><td>2019-12-01</td><td>&quot;DL&quot;</td><td>19790</td><td>833</td><td>&quot;SAN&quot;</td><td>&quot;San Diego, CA&quot;</td><td>&quot;DTW&quot;</td><td>&quot;Detroit, MI&quot;</td><td>1124</td><td>1122.0</td><td>-2.0</td><td>17.0</td><td>1139.0</td><td>1822.0</td><td>12.0</td><td>1847</td><td>1834.0</td><td>-13.0</td><td>0.0</td><td>&quot;Z&quot;</td><td>0.0</td><td>263.0</td><td>252.0</td><td>223.0</td><td>1956.0</td><td>null</td><td>null</td><td>null</td><td>null</td><td>null</td><td>2019</td><td>12</td><td>1</td></tr><tr><td>2019-12-01</td><td>&quot;DL&quot;</td><td>19790</td><td>834</td><td>&quot;LGA&quot;</td><td>&quot;New York, NY&quot;</td><td>&quot;DEN&quot;</td><td>&quot;Denver, CO&quot;</td><td>1810</td><td>1807.0</td><td>-3.0</td><td>25.0</td><td>1832.0</td><td>1956.0</td><td>8.0</td><td>2051</td><td>2004.0</td><td>-47.0</td><td>0.0</td><td>&quot;Z&quot;</td><td>0.0</td><td>281.0</td><td>237.0</td><td>204.0</td><td>1620.0</td><td>null</td><td>null</td><td>null</td><td>null</td><td>null</td><td>2019</td><td>12</td><td>1</td></tr><tr><td>2019-12-01</td><td>&quot;DL&quot;</td><td>19790</td><td>835</td><td>&quot;LAX&quot;</td><td>&quot;Los Angeles, C…</td><td>&quot;MSY&quot;</td><td>&quot;New Orleans, L…</td><td>901</td><td>919.0</td><td>18.0</td><td>14.0</td><td>933.0</td><td>1428.0</td><td>3.0</td><td>1438</td><td>1431.0</td><td>-7.0</td><td>0.0</td><td>&quot;Z&quot;</td><td>0.0</td><td>217.0</td><td>192.0</td><td>175.0</td><td>1670.0</td><td>null</td><td>null</td><td>null</td><td>null</td><td>null</td><td>2019</td><td>12</td><td>1</td></tr><tr><td>2019-12-01</td><td>&quot;DL&quot;</td><td>19790</td><td>836</td><td>&quot;HNL&quot;</td><td>&quot;Honolulu, HI&quot;</td><td>&quot;ATL&quot;</td><td>&quot;Atlanta, GA&quot;</td><td>1700</td><td>1654.0</td><td>-6.0</td><td>18.0</td><td>1712.0</td><td>554.0</td><td>8.0</td><td>634</td><td>602.0</td><td>-32.0</td><td>0.0</td><td>&quot;Z&quot;</td><td>0.0</td><td>514.0</td><td>488.0</td><td>462.0</td><td>4502.0</td><td>null</td><td>null</td><td>null</td><td>null</td><td>null</td><td>2019</td><td>12</td><td>1</td></tr></tbody></table></div>"
      ],
      "text/plain": [
       "shape: (5, 33)\n",
       "┌────────────┬──────────────┬──────────┬───────────┬───┬─────────────┬─────────┬──────────┬────────┐\n",
       "│ FL_DATE    ┆ AIRLINE_CODE ┆ DOT_CODE ┆ FL_NUMBER ┆ … ┆ DELAY_DUE_L ┆ FL_YEAR ┆ FL_MONTH ┆ FL_DAY │\n",
       "│ ---        ┆ ---          ┆ ---      ┆ ---       ┆   ┆ ATE_AIRCRAF ┆ ---     ┆ ---      ┆ ---    │\n",
       "│ date       ┆ str          ┆ i64      ┆ i64       ┆   ┆ T           ┆ i64     ┆ i64      ┆ i64    │\n",
       "│            ┆              ┆          ┆           ┆   ┆ ---         ┆         ┆          ┆        │\n",
       "│            ┆              ┆          ┆           ┆   ┆ f64         ┆         ┆          ┆        │\n",
       "╞════════════╪══════════════╪══════════╪═══════════╪═══╪═════════════╪═════════╪══════════╪════════╡\n",
       "│ 2019-12-01 ┆ DL           ┆ 19790    ┆ 833       ┆ … ┆ null        ┆ 2019    ┆ 12       ┆ 1      │\n",
       "│ 2019-12-01 ┆ DL           ┆ 19790    ┆ 833       ┆ … ┆ null        ┆ 2019    ┆ 12       ┆ 1      │\n",
       "│ 2019-12-01 ┆ DL           ┆ 19790    ┆ 834       ┆ … ┆ null        ┆ 2019    ┆ 12       ┆ 1      │\n",
       "│ 2019-12-01 ┆ DL           ┆ 19790    ┆ 835       ┆ … ┆ null        ┆ 2019    ┆ 12       ┆ 1      │\n",
       "│ 2019-12-01 ┆ DL           ┆ 19790    ┆ 836       ┆ … ┆ null        ┆ 2019    ┆ 12       ┆ 1      │\n",
       "└────────────┴──────────────┴──────────┴───────────┴───┴─────────────┴─────────┴──────────┴────────┘"
      ]
     },
     "execution_count": 7,
     "metadata": {},
     "output_type": "execute_result"
    }
   ],
   "source": [
    "df.head(5)"
   ]
  },
  {
   "cell_type": "code",
   "execution_count": 8,
   "id": "23b7d8bc-95fc-4b86-ae8b-053556ad5f00",
   "metadata": {},
   "outputs": [
    {
     "data": {
      "text/html": [
       "<div><style>\n",
       ".dataframe > thead > tr,\n",
       ".dataframe > tbody > tr {\n",
       "  text-align: right;\n",
       "  white-space: pre-wrap;\n",
       "}\n",
       "</style>\n",
       "<small>shape: (3, 2)</small><table border=\"1\" class=\"dataframe\"><thead><tr><th>AIRLINE_CODE</th><th>ORIGIN</th></tr><tr><td>str</td><td>str</td></tr></thead><tbody><tr><td>&quot;DL&quot;</td><td>&quot;DTW&quot;</td></tr><tr><td>&quot;DL&quot;</td><td>&quot;SAN&quot;</td></tr><tr><td>&quot;DL&quot;</td><td>&quot;LGA&quot;</td></tr></tbody></table></div>"
      ],
      "text/plain": [
       "shape: (3, 2)\n",
       "┌──────────────┬────────┐\n",
       "│ AIRLINE_CODE ┆ ORIGIN │\n",
       "│ ---          ┆ ---    │\n",
       "│ str          ┆ str    │\n",
       "╞══════════════╪════════╡\n",
       "│ DL           ┆ DTW    │\n",
       "│ DL           ┆ SAN    │\n",
       "│ DL           ┆ LGA    │\n",
       "└──────────────┴────────┘"
      ]
     },
     "execution_count": 8,
     "metadata": {},
     "output_type": "execute_result"
    }
   ],
   "source": [
    "df[0:3, [\"AIRLINE_CODE\", \"ORIGIN\"]]"
   ]
  },
  {
   "cell_type": "code",
   "execution_count": 9,
   "id": "f07f9ca0-b942-4d50-a1b3-58f4cfdf711a",
   "metadata": {},
   "outputs": [
    {
     "data": {
      "text/html": [
       "<div><style>\n",
       ".dataframe > thead > tr,\n",
       ".dataframe > tbody > tr {\n",
       "  text-align: right;\n",
       "  white-space: pre-wrap;\n",
       "}\n",
       "</style>\n",
       "<small>shape: (17, 2)</small><table border=\"1\" class=\"dataframe\"><thead><tr><th>AIRLINE_CODE</th><th>counts</th></tr><tr><td>str</td><td>u32</td></tr></thead><tbody><tr><td>&quot;F9&quot;</td><td>135543</td></tr><tr><td>&quot;OO&quot;</td><td>836445</td></tr><tr><td>&quot;OH&quot;</td><td>289304</td></tr><tr><td>&quot;UA&quot;</td><td>625910</td></tr><tr><td>&quot;WN&quot;</td><td>1363946</td></tr><tr><td>&quot;G4&quot;</td><td>105305</td></tr><tr><td>&quot;YV&quot;</td><td>227888</td></tr><tr><td>&quot;HA&quot;</td><td>83891</td></tr><tr><td>&quot;MQ&quot;</td><td>327007</td></tr><tr><td>&quot;9E&quot;</td><td>257132</td></tr><tr><td>&quot;DL&quot;</td><td>991986</td></tr><tr><td>&quot;AA&quot;</td><td>946776</td></tr><tr><td>&quot;B6&quot;</td><td>297411</td></tr><tr><td>&quot;NK&quot;</td><td>204845</td></tr><tr><td>&quot;EV&quot;</td><td>134683</td></tr><tr><td>&quot;AS&quot;</td><td>264816</td></tr><tr><td>&quot;YX&quot;</td><td>329149</td></tr></tbody></table></div>"
      ],
      "text/plain": [
       "shape: (17, 2)\n",
       "┌──────────────┬────────┐\n",
       "│ AIRLINE_CODE ┆ counts │\n",
       "│ ---          ┆ ---    │\n",
       "│ str          ┆ u32    │\n",
       "╞══════════════╪════════╡\n",
       "│ F9           ┆ 135543 │\n",
       "│ OO           ┆ 836445 │\n",
       "│ OH           ┆ 289304 │\n",
       "│ UA           ┆ 625910 │\n",
       "│ …            ┆ …      │\n",
       "│ NK           ┆ 204845 │\n",
       "│ EV           ┆ 134683 │\n",
       "│ AS           ┆ 264816 │\n",
       "│ YX           ┆ 329149 │\n",
       "└──────────────┴────────┘"
      ]
     },
     "execution_count": 9,
     "metadata": {},
     "output_type": "execute_result"
    }
   ],
   "source": [
    "df.select(\"AIRLINE_CODE\").to_series().value_counts()"
   ]
  },
  {
   "cell_type": "code",
   "execution_count": 10,
   "id": "eb304466-5368-4257-b11c-49b24ebfb186",
   "metadata": {},
   "outputs": [
    {
     "data": {
      "text/html": [
       "<div><style>\n",
       ".dataframe > thead > tr,\n",
       ".dataframe > tbody > tr {\n",
       "  text-align: right;\n",
       "  white-space: pre-wrap;\n",
       "}\n",
       "</style>\n",
       "<small>shape: (5, 2)</small><table border=\"1\" class=\"dataframe\"><thead><tr><th>AIRLINE_CODE</th><th>ORIGIN</th></tr><tr><td>str</td><td>str</td></tr></thead><tbody><tr><td>&quot;DL&quot;</td><td>&quot;dtw&quot;</td></tr><tr><td>&quot;DL&quot;</td><td>&quot;san&quot;</td></tr><tr><td>&quot;DL&quot;</td><td>&quot;lga&quot;</td></tr><tr><td>&quot;DL&quot;</td><td>&quot;lax&quot;</td></tr><tr><td>&quot;DL&quot;</td><td>&quot;hnl&quot;</td></tr></tbody></table></div>"
      ],
      "text/plain": [
       "shape: (5, 2)\n",
       "┌──────────────┬────────┐\n",
       "│ AIRLINE_CODE ┆ ORIGIN │\n",
       "│ ---          ┆ ---    │\n",
       "│ str          ┆ str    │\n",
       "╞══════════════╪════════╡\n",
       "│ DL           ┆ dtw    │\n",
       "│ DL           ┆ san    │\n",
       "│ DL           ┆ lga    │\n",
       "│ DL           ┆ lax    │\n",
       "│ DL           ┆ hnl    │\n",
       "└──────────────┴────────┘"
      ]
     },
     "execution_count": 10,
     "metadata": {},
     "output_type": "execute_result"
    }
   ],
   "source": [
    "df.select(\n",
    "    [\n",
    "        pl.col(\"AIRLINE_CODE\"),\n",
    "        pl.col(\"ORIGIN\").str.to_lowercase()\n",
    "    ]\n",
    ").head()"
   ]
  },
  {
   "cell_type": "code",
   "execution_count": 11,
   "id": "5419471b-d8c9-4758-af10-edb150a83138",
   "metadata": {},
   "outputs": [
    {
     "data": {
      "text/html": [
       "<div><style>\n",
       ".dataframe > thead > tr,\n",
       ".dataframe > tbody > tr {\n",
       "  text-align: right;\n",
       "  white-space: pre-wrap;\n",
       "}\n",
       "</style>\n",
       "<small>shape: (17, 2)</small><table border=\"1\" class=\"dataframe\"><thead><tr><th>AIRLINE_CODE</th><th>DEP_DELAY_MEAN</th></tr><tr><td>str</td><td>f64</td></tr></thead><tbody><tr><td>&quot;B6&quot;</td><td>17.745473</td></tr><tr><td>&quot;EV&quot;</td><td>17.214007</td></tr><tr><td>&quot;F9&quot;</td><td>14.577009</td></tr><tr><td>&quot;YV&quot;</td><td>13.803163</td></tr><tr><td>&quot;UA&quot;</td><td>13.004564</td></tr><tr><td>&quot;OO&quot;</td><td>12.564053</td></tr><tr><td>&quot;AA&quot;</td><td>12.114915</td></tr><tr><td>&quot;NK&quot;</td><td>10.94095</td></tr><tr><td>&quot;OH&quot;</td><td>10.704734</td></tr><tr><td>&quot;9E&quot;</td><td>10.245765</td></tr><tr><td>&quot;WN&quot;</td><td>10.178762</td></tr><tr><td>&quot;G4&quot;</td><td>10.12291</td></tr><tr><td>&quot;MQ&quot;</td><td>9.272981</td></tr><tr><td>&quot;YX&quot;</td><td>8.544064</td></tr><tr><td>&quot;DL&quot;</td><td>8.155754</td></tr><tr><td>&quot;AS&quot;</td><td>5.034637</td></tr><tr><td>&quot;HA&quot;</td><td>1.2964</td></tr></tbody></table></div>"
      ],
      "text/plain": [
       "shape: (17, 2)\n",
       "┌──────────────┬────────────────┐\n",
       "│ AIRLINE_CODE ┆ DEP_DELAY_MEAN │\n",
       "│ ---          ┆ ---            │\n",
       "│ str          ┆ f64            │\n",
       "╞══════════════╪════════════════╡\n",
       "│ B6           ┆ 17.745473      │\n",
       "│ EV           ┆ 17.214007      │\n",
       "│ F9           ┆ 14.577009      │\n",
       "│ YV           ┆ 13.803163      │\n",
       "│ …            ┆ …              │\n",
       "│ YX           ┆ 8.544064       │\n",
       "│ DL           ┆ 8.155754       │\n",
       "│ AS           ┆ 5.034637       │\n",
       "│ HA           ┆ 1.2964         │\n",
       "└──────────────┴────────────────┘"
      ]
     },
     "execution_count": 11,
     "metadata": {},
     "output_type": "execute_result"
    }
   ],
   "source": [
    "df.group_by(\"AIRLINE_CODE\").agg(\n",
    "    pl.col(\"DEP_DELAY\").mean().alias(\"DEP_DELAY_MEAN\")\n",
    ").sort(\"DEP_DELAY_MEAN\", descending=True)"
   ]
  },
  {
   "cell_type": "code",
   "execution_count": 36,
   "id": "486c3ae8-ab1d-48e1-b200-de0abb91b7cf",
   "metadata": {},
   "outputs": [
    {
     "data": {
      "text/plain": [
       "<matplotlib.collections.PathCollection at 0x7fbed5eeaca0>"
      ]
     },
     "execution_count": 36,
     "metadata": {},
     "output_type": "execute_result"
    },
    {
     "data": {
      "image/png": "[encoded data removed]",
      "text/plain": [
       "<Figure size 640x480 with 1 Axes>"
      ]
     },
     "metadata": {},
     "output_type": "display_data"
    }
   ],
   "source": [
    "plt.scatter(df[\"DEP_DELAY\"], df[\"ARR_DELAY\"])"
   ]
  },
  {
   "cell_type": "code",
   "execution_count": 37,
   "id": "84f2c76f-d7cd-4e3a-b2d4-c8ea677d20f4",
   "metadata": {},
   "outputs": [
    {
     "data": {
      "text/plain": [
       "'SORT BY [col(\"DEP_DELAY_MEAN\")]\\n  AGGREGATE\\n  \\t[col(\"DEP_DELAY\").mean().alias(\"DEP_DELAY_MEAN\")] BY [col(\"AIRLINE_CODE\")] FROM\\n\\n      Csv SCAN ../datasets/2019.csv\\n      PROJECT 2/33 COLUMNS'"
      ]
     },
     "execution_count": 37,
     "metadata": {},
     "output_type": "execute_result"
    }
   ],
   "source": [
    "(\n",
    "    pl.scan_csv(\"../datasets/2019.csv\")\n",
    "    .group_by(\"AIRLINE_CODE\")\n",
    "    .agg(\n",
    "        pl.col(\"DEP_DELAY\").mean().alias(\"DEP_DELAY_MEAN\")\n",
    "    )\n",
    "    .sort(\"DEP_DELAY_MEAN\", descending=True)\n",
    "    .explain()\n",
    ")"
   ]
  },
  {
   "cell_type": "code",
   "execution_count": 38,
   "id": "fcbc74de-760f-4763-8e2c-18f1a6823c99",
   "metadata": {},
   "outputs": [
    {
     "data": {
      "text/plain": [
       "'SORT BY [col(\"DEP_DELAY_MEAN\")]\\n  AGGREGATE\\n  \\t[col(\"DEP_DELAY\").mean().alias(\"DEP_DELAY_MEAN\")] BY [col(\"AIRLINE_CODE\")] FROM\\n\\n      Csv SCAN ../datasets/2019.csv\\n      PROJECT 2/33 COLUMNS'"
      ]
     },
     "execution_count": 38,
     "metadata": {},
     "output_type": "execute_result"
    }
   ],
   "source": [
    "(\n",
    "    pl.scan_csv(\"../datasets/2019.csv\")\n",
    "    .group_by(\"AIRLINE_CODE\")\n",
    "    .agg(\n",
    "        pl.col(\"DEP_DELAY\").mean().alias(\"DEP_DELAY_MEAN\")\n",
    "    )\n",
    "    .sort(\"DEP_DELAY_MEAN\", descending=True)\n",
    "    .explain()\n",
    ")"
   ]
  },
  {
   "cell_type": "code",
   "execution_count": 39,
   "id": "f8833b97-9bd5-46af-b7bf-1865ebd72231",
   "metadata": {},
   "outputs": [
    {
     "data": {
      "text/html": [
       "<div><style>\n",
       ".dataframe > thead > tr,\n",
       ".dataframe > tbody > tr {\n",
       "  text-align: right;\n",
       "  white-space: pre-wrap;\n",
       "}\n",
       "</style>\n",
       "<small>shape: (17, 2)</small><table border=\"1\" class=\"dataframe\"><thead><tr><th>AIRLINE_CODE</th><th>DEP_DELAY_MEAN</th></tr><tr><td>str</td><td>f64</td></tr></thead><tbody><tr><td>&quot;B6&quot;</td><td>17.745473</td></tr><tr><td>&quot;EV&quot;</td><td>17.214007</td></tr><tr><td>&quot;F9&quot;</td><td>14.577009</td></tr><tr><td>&quot;YV&quot;</td><td>13.803163</td></tr><tr><td>&quot;UA&quot;</td><td>13.004564</td></tr><tr><td>&quot;OO&quot;</td><td>12.564053</td></tr><tr><td>&quot;AA&quot;</td><td>12.114915</td></tr><tr><td>&quot;NK&quot;</td><td>10.94095</td></tr><tr><td>&quot;OH&quot;</td><td>10.704734</td></tr><tr><td>&quot;9E&quot;</td><td>10.245765</td></tr><tr><td>&quot;WN&quot;</td><td>10.178762</td></tr><tr><td>&quot;G4&quot;</td><td>10.12291</td></tr><tr><td>&quot;MQ&quot;</td><td>9.272981</td></tr><tr><td>&quot;YX&quot;</td><td>8.544064</td></tr><tr><td>&quot;DL&quot;</td><td>8.155754</td></tr><tr><td>&quot;AS&quot;</td><td>5.034637</td></tr><tr><td>&quot;HA&quot;</td><td>1.2964</td></tr></tbody></table></div>"
      ],
      "text/plain": [
       "shape: (17, 2)\n",
       "┌──────────────┬────────────────┐\n",
       "│ AIRLINE_CODE ┆ DEP_DELAY_MEAN │\n",
       "│ ---          ┆ ---            │\n",
       "│ str          ┆ f64            │\n",
       "╞══════════════╪════════════════╡\n",
       "│ B6           ┆ 17.745473      │\n",
       "│ EV           ┆ 17.214007      │\n",
       "│ F9           ┆ 14.577009      │\n",
       "│ YV           ┆ 13.803163      │\n",
       "│ …            ┆ …              │\n",
       "│ YX           ┆ 8.544064       │\n",
       "│ DL           ┆ 8.155754       │\n",
       "│ AS           ┆ 5.034637       │\n",
       "│ HA           ┆ 1.2964         │\n",
       "└──────────────┴────────────────┘"
      ]
     },
     "execution_count": 39,
     "metadata": {},
     "output_type": "execute_result"
    }
   ],
   "source": [
    "(\n",
    "    pl.scan_csv(\"../datasets/2019.csv\")\n",
    "    .group_by(\"AIRLINE_CODE\")\n",
    "    .agg(\n",
    "        pl.col(\"DEP_DELAY\").mean().alias(\"DEP_DELAY_MEAN\")\n",
    "    )\n",
    "    .sort(\"DEP_DELAY_MEAN\", descending=True)\n",
    "    .collect()\n",
    ")"
   ]
  },
  {
   "cell_type": "markdown",
   "id": "5776bb98-e3fe-4a30-83dd-8cce2b27e23d",
   "metadata": {},
   "source": [
    "### Data types"
   ]
  },
  {
   "cell_type": "code",
   "execution_count": 42,
   "id": "a9fd7e5c-7ffa-4c9f-8bca-9726705f6491",
   "metadata": {},
   "outputs": [
    {
     "data": {
      "text/plain": [
       "OrderedDict([('FL_DATE', Date),\n",
       "             ('AIRLINE_CODE', Utf8),\n",
       "             ('DOT_CODE', Int64),\n",
       "             ('FL_NUMBER', Int64),\n",
       "             ('ORIGIN', Utf8),\n",
       "             ('ORIGIN_CITY', Utf8),\n",
       "             ('DEST', Utf8),\n",
       "             ('DEST_CITY', Utf8),\n",
       "             ('CRS_DEP_TIME', Int64),\n",
       "             ('DEP_TIME', Float64),\n",
       "             ('DEP_DELAY', Float64),\n",
       "             ('TAXI_OUT', Float64),\n",
       "             ('WHEELS_OFF', Float64),\n",
       "             ('WHEELS_ON', Float64),\n",
       "             ('TAXI_IN', Float64),\n",
       "             ('CRS_ARR_TIME', Int64),\n",
       "             ('ARR_TIME', Float64),\n",
       "             ('ARR_DELAY', Float64),\n",
       "             ('CANCELLED', Float64),\n",
       "             ('CANCELLATION_CODE', Utf8),\n",
       "             ('DIVERTED', Float64),\n",
       "             ('CRS_ELAPSED_TIME', Float64),\n",
       "             ('ELAPSED_TIME', Float64),\n",
       "             ('AIR_TIME', Float64),\n",
       "             ('DISTANCE', Float64),\n",
       "             ('DELAY_DUE_CARRIER', Float64),\n",
       "             ('DELAY_DUE_WEATHER', Float64),\n",
       "             ('DELAY_DUE_NAS', Float64),\n",
       "             ('DELAY_DUE_SECURITY', Float64),\n",
       "             ('DELAY_DUE_LATE_AIRCRAFT', Float64),\n",
       "             ('FL_YEAR', Int64),\n",
       "             ('FL_MONTH', Int64),\n",
       "             ('FL_DAY', Int64)])"
      ]
     },
     "execution_count": 42,
     "metadata": {},
     "output_type": "execute_result"
    }
   ],
   "source": [
    "df.schema"
   ]
  },
  {
   "cell_type": "code",
   "execution_count": 45,
   "id": "f81441eb-1f36-4a16-9ecd-292ea95449da",
   "metadata": {},
   "outputs": [
    {
     "data": {
      "text/plain": [
       "Int64"
      ]
     },
     "execution_count": 45,
     "metadata": {},
     "output_type": "execute_result"
    }
   ],
   "source": [
    "df[\"FL_DAY\"].dtype"
   ]
  },
  {
   "cell_type": "code",
   "execution_count": 46,
   "id": "15136633-7362-4842-a1ca-5326b624d218",
   "metadata": {},
   "outputs": [
    {
     "data": {
      "text/plain": [
       "pyarrow.Table\n",
       "FL_DATE: date32[day]\n",
       "AIRLINE_CODE: large_string\n",
       "DOT_CODE: int64\n",
       "FL_NUMBER: int64\n",
       "ORIGIN: large_string\n",
       "ORIGIN_CITY: large_string\n",
       "DEST: large_string\n",
       "DEST_CITY: large_string\n",
       "CRS_DEP_TIME: int64\n",
       "DEP_TIME: double\n",
       "DEP_DELAY: double\n",
       "TAXI_OUT: double\n",
       "WHEELS_OFF: double\n",
       "WHEELS_ON: double\n",
       "TAXI_IN: double\n",
       "CRS_ARR_TIME: int64\n",
       "ARR_TIME: double\n",
       "ARR_DELAY: double\n",
       "CANCELLED: double\n",
       "CANCELLATION_CODE: large_string\n",
       "DIVERTED: double\n",
       "CRS_ELAPSED_TIME: double\n",
       "ELAPSED_TIME: double\n",
       "AIR_TIME: double\n",
       "DISTANCE: double\n",
       "DELAY_DUE_CARRIER: double\n",
       "DELAY_DUE_WEATHER: double\n",
       "DELAY_DUE_NAS: double\n",
       "DELAY_DUE_SECURITY: double\n",
       "DELAY_DUE_LATE_AIRCRAFT: double\n",
       "FL_YEAR: int64\n",
       "FL_MONTH: int64\n",
       "FL_DAY: int64\n",
       "----\n",
       "FL_DATE: [[2019-12-01,2019-12-01,2019-12-01,2019-12-01,2019-12-01,...,2019-08-18,2019-08-18,2019-08-18,2019-08-18,2019-08-18]]\n",
       "AIRLINE_CODE: [[\"DL\",\"DL\",\"DL\",\"DL\",\"DL\",...,\"WN\",\"WN\",\"WN\",\"WN\",\"WN\"]]\n",
       "DOT_CODE: [[19790,19790,19790,19790,19790,...,19393,19393,19393,19393,19393]]\n",
       "FL_NUMBER: [[833,833,834,835,836,...,5564,6580,2348,4812,3320]]\n",
       "ORIGIN: [[\"DTW\",\"SAN\",\"LGA\",\"LAX\",\"HNL\",...,\"SAN\",\"SAN\",\"SAN\",\"SAN\",\"SAN\"]]\n",
       "ORIGIN_CITY: [[\"Detroit, MI\",\"San Diego, CA\",\"New York, NY\",\"Los Angeles, CA\",\"Honolulu, HI\",...,\"San Diego, CA\",\"San Diego, CA\",\"San Diego, CA\",\"San Diego, CA\",\"San Diego, CA\"]]\n",
       "DEST: [[\"SAN\",\"DTW\",\"DEN\",\"MSY\",\"ATL\",...,\"OAK\",\"OMA\",\"PDX\",\"PDX\",\"PHX\"]]\n",
       "DEST_CITY: [[\"San Diego, CA\",\"Detroit, MI\",\"Denver, CO\",\"New Orleans, LA\",\"Atlanta, GA\",...,\"Oakland, CA\",\"Omaha, NE\",\"Portland, OR\",\"Portland, OR\",\"Phoenix, AZ\"]]\n",
       "CRS_DEP_TIME: [[820,1124,1810,901,1700,...,2150,900,915,2045,1940]]\n",
       "DEP_TIME: [[828,1122,1807,919,1654,...,2151,853,909,2044,1938]]\n",
       "..."
      ]
     },
     "execution_count": 46,
     "metadata": {},
     "output_type": "execute_result"
    }
   ],
   "source": [
    "df.to_arrow()"
   ]
  },
  {
   "cell_type": "code",
   "execution_count": 48,
   "id": "247cc096-ba9d-42a9-b338-d55a0f7d7024",
   "metadata": {},
   "outputs": [
    {
     "name": "stdout",
     "output_type": "stream",
     "text": [
      "shape: (7_422_037,)\n",
      "Series: 'WHEELS_ON' [f64]\n",
      "[\n",
      "\t1017.0\n",
      "\t1822.0\n",
      "\t1956.0\n",
      "\t1428.0\n",
      "\t554.0\n",
      "\t1528.0\n",
      "\t222.0\n",
      "\t739.0\n",
      "\t104.0\n",
      "\t1311.0\n",
      "\t1320.0\n",
      "\t1250.0\n",
      "\t…\n",
      "\t1747.0\n",
      "\t2204.0\n",
      "\t1409.0\n",
      "\t2005.0\n",
      "\t2349.0\n",
      "\t1111.0\n",
      "\t1448.0\n",
      "\t955.0\n",
      "\t2309.0\n",
      "\t1347.0\n",
      "\t1120.0\n",
      "\t2300.0\n",
      "\t2039.0\n",
      "]\n"
     ]
    }
   ],
   "source": [
    "print(df[\"WHEELS_ON\"])"
   ]
  },
  {
   "cell_type": "code",
   "execution_count": 49,
   "id": "68c5510c-f9e0-41c5-a735-6515a319a0fa",
   "metadata": {},
   "outputs": [
    {
     "name": "stdout",
     "output_type": "stream",
     "text": [
      "shape: (7_422_037, 1)\n",
      "┌───────────┐\n",
      "│ WHEELS_ON │\n",
      "│ ---       │\n",
      "│ f64       │\n",
      "╞═══════════╡\n",
      "│ 1017.0    │\n",
      "│ 1822.0    │\n",
      "│ 1956.0    │\n",
      "│ 1428.0    │\n",
      "│ …         │\n",
      "│ 1347.0    │\n",
      "│ 1120.0    │\n",
      "│ 2300.0    │\n",
      "│ 2039.0    │\n",
      "└───────────┘\n"
     ]
    }
   ],
   "source": [
    "print(df.select(\"WHEELS_ON\"))"
   ]
  },
  {
   "cell_type": "code",
   "execution_count": 50,
   "id": "9bca218e-c0cf-44cb-be33-17620423228f",
   "metadata": {},
   "outputs": [
    {
     "name": "stdout",
     "output_type": "stream",
     "text": [
      "shape: (7_422_037, 1)\n",
      "┌───────────┐\n",
      "│ WHEELS_ON │\n",
      "│ ---       │\n",
      "│ f64       │\n",
      "╞═══════════╡\n",
      "│ 1017.0    │\n",
      "│ 1822.0    │\n",
      "│ 1956.0    │\n",
      "│ 1428.0    │\n",
      "│ …         │\n",
      "│ 1347.0    │\n",
      "│ 1120.0    │\n",
      "│ 2300.0    │\n",
      "│ 2039.0    │\n",
      "└───────────┘\n"
     ]
    }
   ],
   "source": [
    "print(df[\"WHEELS_ON\"].to_frame())"
   ]
  },
  {
   "cell_type": "code",
   "execution_count": 51,
   "id": "d794f782-45df-4721-8585-5c6d043a8a9e",
   "metadata": {},
   "outputs": [
    {
     "name": "stdout",
     "output_type": "stream",
     "text": [
      "shape: (7_422_037,)\n",
      "Series: 'WHEELS_ON' [f64]\n",
      "[\n",
      "\t1017.0\n",
      "\t1822.0\n",
      "\t1956.0\n",
      "\t1428.0\n",
      "\t554.0\n",
      "\t1528.0\n",
      "\t222.0\n",
      "\t739.0\n",
      "\t104.0\n",
      "\t1311.0\n",
      "\t1320.0\n",
      "\t1250.0\n",
      "\t…\n",
      "\t1747.0\n",
      "\t2204.0\n",
      "\t1409.0\n",
      "\t2005.0\n",
      "\t2349.0\n",
      "\t1111.0\n",
      "\t1448.0\n",
      "\t955.0\n",
      "\t2309.0\n",
      "\t1347.0\n",
      "\t1120.0\n",
      "\t2300.0\n",
      "\t2039.0\n",
      "]\n"
     ]
    }
   ],
   "source": [
    "print(df.select(\"WHEELS_ON\").to_series())"
   ]
  },
  {
   "cell_type": "code",
   "execution_count": 13,
   "id": "64a57195-b327-459d-a583-e3608da5a8d0",
   "metadata": {},
   "outputs": [
    {
     "data": {
      "text/plain": [
       "array([[datetime.date(2019, 12, 1), 'DL', 19790, ..., 2019, 12, 1],\n",
       "       [datetime.date(2019, 12, 1), 'DL', 19790, ..., 2019, 12, 1],\n",
       "       [datetime.date(2019, 12, 1), 'DL', 19790, ..., 2019, 12, 1],\n",
       "       ...,\n",
       "       [datetime.date(2019, 8, 18), 'WN', 19393, ..., 2019, 8, 18],\n",
       "       [datetime.date(2019, 8, 18), 'WN', 19393, ..., 2019, 8, 18],\n",
       "       [datetime.date(2019, 8, 18), 'WN', 19393, ..., 2019, 8, 18]],\n",
       "      dtype=object)"
      ]
     },
     "execution_count": 13,
     "metadata": {},
     "output_type": "execute_result"
    }
   ],
   "source": [
    "df.to_numpy()"
   ]
  },
  {
   "cell_type": "code",
   "execution_count": 14,
   "id": "efcd8873-76f3-4cae-be30-d76ebb5753d8",
   "metadata": {},
   "outputs": [
    {
     "data": {
      "text/html": [
       "<div>\n",
       "<style scoped>\n",
       "    .dataframe tbody tr th:only-of-type {\n",
       "        vertical-align: middle;\n",
       "    }\n",
       "\n",
       "    .dataframe tbody tr th {\n",
       "        vertical-align: top;\n",
       "    }\n",
       "\n",
       "    .dataframe thead th {\n",
       "        text-align: right;\n",
       "    }\n",
       "</style>\n",
       "<table border=\"1\" class=\"dataframe\">\n",
       "  <thead>\n",
       "    <tr style=\"text-align: right;\">\n",
       "      <th></th>\n",
       "      <th>FL_DATE</th>\n",
       "      <th>AIRLINE_CODE</th>\n",
       "      <th>DOT_CODE</th>\n",
       "      <th>FL_NUMBER</th>\n",
       "      <th>ORIGIN</th>\n",
       "      <th>ORIGIN_CITY</th>\n",
       "      <th>DEST</th>\n",
       "      <th>DEST_CITY</th>\n",
       "      <th>CRS_DEP_TIME</th>\n",
       "      <th>DEP_TIME</th>\n",
       "      <th>...</th>\n",
       "      <th>AIR_TIME</th>\n",
       "      <th>DISTANCE</th>\n",
       "      <th>DELAY_DUE_CARRIER</th>\n",
       "      <th>DELAY_DUE_WEATHER</th>\n",
       "      <th>DELAY_DUE_NAS</th>\n",
       "      <th>DELAY_DUE_SECURITY</th>\n",
       "      <th>DELAY_DUE_LATE_AIRCRAFT</th>\n",
       "      <th>FL_YEAR</th>\n",
       "      <th>FL_MONTH</th>\n",
       "      <th>FL_DAY</th>\n",
       "    </tr>\n",
       "  </thead>\n",
       "  <tbody>\n",
       "    <tr>\n",
       "      <th>0</th>\n",
       "      <td>2019-12-01</td>\n",
       "      <td>DL</td>\n",
       "      <td>19790</td>\n",
       "      <td>833</td>\n",
       "      <td>DTW</td>\n",
       "      <td>Detroit, MI</td>\n",
       "      <td>SAN</td>\n",
       "      <td>San Diego, CA</td>\n",
       "      <td>820</td>\n",
       "      <td>828.0</td>\n",
       "      <td>...</td>\n",
       "      <td>264.0</td>\n",
       "      <td>1956.0</td>\n",
       "      <td>NaN</td>\n",
       "      <td>NaN</td>\n",
       "      <td>NaN</td>\n",
       "      <td>NaN</td>\n",
       "      <td>NaN</td>\n",
       "      <td>2019</td>\n",
       "      <td>12</td>\n",
       "      <td>1</td>\n",
       "    </tr>\n",
       "    <tr>\n",
       "      <th>1</th>\n",
       "      <td>2019-12-01</td>\n",
       "      <td>DL</td>\n",
       "      <td>19790</td>\n",
       "      <td>833</td>\n",
       "      <td>SAN</td>\n",
       "      <td>San Diego, CA</td>\n",
       "      <td>DTW</td>\n",
       "      <td>Detroit, MI</td>\n",
       "      <td>1124</td>\n",
       "      <td>1122.0</td>\n",
       "      <td>...</td>\n",
       "      <td>223.0</td>\n",
       "      <td>1956.0</td>\n",
       "      <td>NaN</td>\n",
       "      <td>NaN</td>\n",
       "      <td>NaN</td>\n",
       "      <td>NaN</td>\n",
       "      <td>NaN</td>\n",
       "      <td>2019</td>\n",
       "      <td>12</td>\n",
       "      <td>1</td>\n",
       "    </tr>\n",
       "    <tr>\n",
       "      <th>2</th>\n",
       "      <td>2019-12-01</td>\n",
       "      <td>DL</td>\n",
       "      <td>19790</td>\n",
       "      <td>834</td>\n",
       "      <td>LGA</td>\n",
       "      <td>New York, NY</td>\n",
       "      <td>DEN</td>\n",
       "      <td>Denver, CO</td>\n",
       "      <td>1810</td>\n",
       "      <td>1807.0</td>\n",
       "      <td>...</td>\n",
       "      <td>204.0</td>\n",
       "      <td>1620.0</td>\n",
       "      <td>NaN</td>\n",
       "      <td>NaN</td>\n",
       "      <td>NaN</td>\n",
       "      <td>NaN</td>\n",
       "      <td>NaN</td>\n",
       "      <td>2019</td>\n",
       "      <td>12</td>\n",
       "      <td>1</td>\n",
       "    </tr>\n",
       "    <tr>\n",
       "      <th>3</th>\n",
       "      <td>2019-12-01</td>\n",
       "      <td>DL</td>\n",
       "      <td>19790</td>\n",
       "      <td>835</td>\n",
       "      <td>LAX</td>\n",
       "      <td>Los Angeles, CA</td>\n",
       "      <td>MSY</td>\n",
       "      <td>New Orleans, LA</td>\n",
       "      <td>901</td>\n",
       "      <td>919.0</td>\n",
       "      <td>...</td>\n",
       "      <td>175.0</td>\n",
       "      <td>1670.0</td>\n",
       "      <td>NaN</td>\n",
       "      <td>NaN</td>\n",
       "      <td>NaN</td>\n",
       "      <td>NaN</td>\n",
       "      <td>NaN</td>\n",
       "      <td>2019</td>\n",
       "      <td>12</td>\n",
       "      <td>1</td>\n",
       "    </tr>\n",
       "    <tr>\n",
       "      <th>4</th>\n",
       "      <td>2019-12-01</td>\n",
       "      <td>DL</td>\n",
       "      <td>19790</td>\n",
       "      <td>836</td>\n",
       "      <td>HNL</td>\n",
       "      <td>Honolulu, HI</td>\n",
       "      <td>ATL</td>\n",
       "      <td>Atlanta, GA</td>\n",
       "      <td>1700</td>\n",
       "      <td>1654.0</td>\n",
       "      <td>...</td>\n",
       "      <td>462.0</td>\n",
       "      <td>4502.0</td>\n",
       "      <td>NaN</td>\n",
       "      <td>NaN</td>\n",
       "      <td>NaN</td>\n",
       "      <td>NaN</td>\n",
       "      <td>NaN</td>\n",
       "      <td>2019</td>\n",
       "      <td>12</td>\n",
       "      <td>1</td>\n",
       "    </tr>\n",
       "    <tr>\n",
       "      <th>...</th>\n",
       "      <td>...</td>\n",
       "      <td>...</td>\n",
       "      <td>...</td>\n",
       "      <td>...</td>\n",
       "      <td>...</td>\n",
       "      <td>...</td>\n",
       "      <td>...</td>\n",
       "      <td>...</td>\n",
       "      <td>...</td>\n",
       "      <td>...</td>\n",
       "      <td>...</td>\n",
       "      <td>...</td>\n",
       "      <td>...</td>\n",
       "      <td>...</td>\n",
       "      <td>...</td>\n",
       "      <td>...</td>\n",
       "      <td>...</td>\n",
       "      <td>...</td>\n",
       "      <td>...</td>\n",
       "      <td>...</td>\n",
       "      <td>...</td>\n",
       "    </tr>\n",
       "    <tr>\n",
       "      <th>7422032</th>\n",
       "      <td>2019-08-18</td>\n",
       "      <td>WN</td>\n",
       "      <td>19393</td>\n",
       "      <td>5564</td>\n",
       "      <td>SAN</td>\n",
       "      <td>San Diego, CA</td>\n",
       "      <td>OAK</td>\n",
       "      <td>Oakland, CA</td>\n",
       "      <td>2150</td>\n",
       "      <td>2151.0</td>\n",
       "      <td>...</td>\n",
       "      <td>61.0</td>\n",
       "      <td>446.0</td>\n",
       "      <td>NaN</td>\n",
       "      <td>NaN</td>\n",
       "      <td>NaN</td>\n",
       "      <td>NaN</td>\n",
       "      <td>NaN</td>\n",
       "      <td>2019</td>\n",
       "      <td>8</td>\n",
       "      <td>18</td>\n",
       "    </tr>\n",
       "    <tr>\n",
       "      <th>7422033</th>\n",
       "      <td>2019-08-18</td>\n",
       "      <td>WN</td>\n",
       "      <td>19393</td>\n",
       "      <td>6580</td>\n",
       "      <td>SAN</td>\n",
       "      <td>San Diego, CA</td>\n",
       "      <td>OMA</td>\n",
       "      <td>Omaha, NE</td>\n",
       "      <td>900</td>\n",
       "      <td>853.0</td>\n",
       "      <td>...</td>\n",
       "      <td>161.0</td>\n",
       "      <td>1313.0</td>\n",
       "      <td>NaN</td>\n",
       "      <td>NaN</td>\n",
       "      <td>NaN</td>\n",
       "      <td>NaN</td>\n",
       "      <td>NaN</td>\n",
       "      <td>2019</td>\n",
       "      <td>8</td>\n",
       "      <td>18</td>\n",
       "    </tr>\n",
       "    <tr>\n",
       "      <th>7422034</th>\n",
       "      <td>2019-08-18</td>\n",
       "      <td>WN</td>\n",
       "      <td>19393</td>\n",
       "      <td>2348</td>\n",
       "      <td>SAN</td>\n",
       "      <td>San Diego, CA</td>\n",
       "      <td>PDX</td>\n",
       "      <td>Portland, OR</td>\n",
       "      <td>915</td>\n",
       "      <td>909.0</td>\n",
       "      <td>...</td>\n",
       "      <td>120.0</td>\n",
       "      <td>933.0</td>\n",
       "      <td>NaN</td>\n",
       "      <td>NaN</td>\n",
       "      <td>NaN</td>\n",
       "      <td>NaN</td>\n",
       "      <td>NaN</td>\n",
       "      <td>2019</td>\n",
       "      <td>8</td>\n",
       "      <td>18</td>\n",
       "    </tr>\n",
       "    <tr>\n",
       "      <th>7422035</th>\n",
       "      <td>2019-08-18</td>\n",
       "      <td>WN</td>\n",
       "      <td>19393</td>\n",
       "      <td>4812</td>\n",
       "      <td>SAN</td>\n",
       "      <td>San Diego, CA</td>\n",
       "      <td>PDX</td>\n",
       "      <td>Portland, OR</td>\n",
       "      <td>2045</td>\n",
       "      <td>2044.0</td>\n",
       "      <td>...</td>\n",
       "      <td>119.0</td>\n",
       "      <td>933.0</td>\n",
       "      <td>NaN</td>\n",
       "      <td>NaN</td>\n",
       "      <td>NaN</td>\n",
       "      <td>NaN</td>\n",
       "      <td>NaN</td>\n",
       "      <td>2019</td>\n",
       "      <td>8</td>\n",
       "      <td>18</td>\n",
       "    </tr>\n",
       "    <tr>\n",
       "      <th>7422036</th>\n",
       "      <td>2019-08-18</td>\n",
       "      <td>WN</td>\n",
       "      <td>19393</td>\n",
       "      <td>3320</td>\n",
       "      <td>SAN</td>\n",
       "      <td>San Diego, CA</td>\n",
       "      <td>PHX</td>\n",
       "      <td>Phoenix, AZ</td>\n",
       "      <td>1940</td>\n",
       "      <td>1938.0</td>\n",
       "      <td>...</td>\n",
       "      <td>52.0</td>\n",
       "      <td>304.0</td>\n",
       "      <td>NaN</td>\n",
       "      <td>NaN</td>\n",
       "      <td>NaN</td>\n",
       "      <td>NaN</td>\n",
       "      <td>NaN</td>\n",
       "      <td>2019</td>\n",
       "      <td>8</td>\n",
       "      <td>18</td>\n",
       "    </tr>\n",
       "  </tbody>\n",
       "</table>\n",
       "<p>7422037 rows × 33 columns</p>\n",
       "</div>"
      ],
      "text/plain": [
       "           FL_DATE AIRLINE_CODE  DOT_CODE  FL_NUMBER ORIGIN      ORIGIN_CITY  \\\n",
       "0       2019-12-01           DL     19790        833    DTW      Detroit, MI   \n",
       "1       2019-12-01           DL     19790        833    SAN    San Diego, CA   \n",
       "2       2019-12-01           DL     19790        834    LGA     New York, NY   \n",
       "3       2019-12-01           DL     19790        835    LAX  Los Angeles, CA   \n",
       "4       2019-12-01           DL     19790        836    HNL     Honolulu, HI   \n",
       "...            ...          ...       ...        ...    ...              ...   \n",
       "7422032 2019-08-18           WN     19393       5564    SAN    San Diego, CA   \n",
       "7422033 2019-08-18           WN     19393       6580    SAN    San Diego, CA   \n",
       "7422034 2019-08-18           WN     19393       2348    SAN    San Diego, CA   \n",
       "7422035 2019-08-18           WN     19393       4812    SAN    San Diego, CA   \n",
       "7422036 2019-08-18           WN     19393       3320    SAN    San Diego, CA   \n",
       "\n",
       "        DEST        DEST_CITY  CRS_DEP_TIME  DEP_TIME  ...  AIR_TIME  \\\n",
       "0        SAN    San Diego, CA           820     828.0  ...     264.0   \n",
       "1        DTW      Detroit, MI          1124    1122.0  ...     223.0   \n",
       "2        DEN       Denver, CO          1810    1807.0  ...     204.0   \n",
       "3        MSY  New Orleans, LA           901     919.0  ...     175.0   \n",
       "4        ATL      Atlanta, GA          1700    1654.0  ...     462.0   \n",
       "...      ...              ...           ...       ...  ...       ...   \n",
       "7422032  OAK      Oakland, CA          2150    2151.0  ...      61.0   \n",
       "7422033  OMA        Omaha, NE           900     853.0  ...     161.0   \n",
       "7422034  PDX     Portland, OR           915     909.0  ...     120.0   \n",
       "7422035  PDX     Portland, OR          2045    2044.0  ...     119.0   \n",
       "7422036  PHX      Phoenix, AZ          1940    1938.0  ...      52.0   \n",
       "\n",
       "         DISTANCE  DELAY_DUE_CARRIER  DELAY_DUE_WEATHER  DELAY_DUE_NAS  \\\n",
       "0          1956.0                NaN                NaN            NaN   \n",
       "1          1956.0                NaN                NaN            NaN   \n",
       "2          1620.0                NaN                NaN            NaN   \n",
       "3          1670.0                NaN                NaN            NaN   \n",
       "4          4502.0                NaN                NaN            NaN   \n",
       "...           ...                ...                ...            ...   \n",
       "7422032     446.0                NaN                NaN            NaN   \n",
       "7422033    1313.0                NaN                NaN            NaN   \n",
       "7422034     933.0                NaN                NaN            NaN   \n",
       "7422035     933.0                NaN                NaN            NaN   \n",
       "7422036     304.0                NaN                NaN            NaN   \n",
       "\n",
       "         DELAY_DUE_SECURITY  DELAY_DUE_LATE_AIRCRAFT  FL_YEAR  FL_MONTH FL_DAY  \n",
       "0                       NaN                      NaN     2019        12      1  \n",
       "1                       NaN                      NaN     2019        12      1  \n",
       "2                       NaN                      NaN     2019        12      1  \n",
       "3                       NaN                      NaN     2019        12      1  \n",
       "4                       NaN                      NaN     2019        12      1  \n",
       "...                     ...                      ...      ...       ...    ...  \n",
       "7422032                 NaN                      NaN     2019         8     18  \n",
       "7422033                 NaN                      NaN     2019         8     18  \n",
       "7422034                 NaN                      NaN     2019         8     18  \n",
       "7422035                 NaN                      NaN     2019         8     18  \n",
       "7422036                 NaN                      NaN     2019         8     18  \n",
       "\n",
       "[7422037 rows x 33 columns]"
      ]
     },
     "execution_count": 14,
     "metadata": {},
     "output_type": "execute_result"
    }
   ],
   "source": [
    "df.to_pandas()"
   ]
  },
  {
   "cell_type": "code",
   "execution_count": null,
   "id": "f53b0195-1544-42d6-a426-52dbcad06374",
   "metadata": {},
   "outputs": [],
   "source": []
  }
 ],
 "metadata": {
  "kernelspec": {
   "display_name": "Python 3 (ipykernel)",
   "language": "python",
   "name": "python3"
  },
  "language_info": {
   "codemirror_mode": {
    "name": "ipython",
    "version": 3
   },
   "file_extension": ".py",
   "mimetype": "text/x-python",
   "name": "python",
   "nbconvert_exporter": "python",
   "pygments_lexer": "ipython3",
   "version": "3.9.13"
  }
 },
 "nbformat": 4,
 "nbformat_minor": 5
}
